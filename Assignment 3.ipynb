{
 "cells": [
  {
   "cell_type": "code",
   "execution_count": 2,
   "metadata": {},
   "outputs": [
    {
     "name": "stdout",
     "output_type": "stream",
     "text": [
      "[ 2  5  8 11 14 17 20 23 26 29 32 35 38 41 44 47]\n"
     ]
    }
   ],
   "source": [
    "import numpy as np\n",
    "data = np.arange(2,50,3)\n",
    "print(data)"
   ]
  },
  {
   "cell_type": "code",
   "execution_count": 8,
   "metadata": {},
   "outputs": [
    {
     "name": "stdout",
     "output_type": "stream",
     "text": [
      "List1: 12\n",
      "List1: 21\n",
      "List1: 32\n",
      "List1: 23\n",
      "List1: 65\n",
      "List2: 45\n",
      "List2: 85\n",
      "List2: 98\n",
      "List2: 94\n",
      "List2: 20\n",
      "[12 21 32 23 65 45 85 98 94 20]\n",
      "[12 20 21 23 32 45 65 85 94 98]\n"
     ]
    }
   ],
   "source": [
    "#Question 2\n",
    "list1 = []\n",
    "list2 = []\n",
    "for i in range(0,5):\n",
    "    val = int(input('List1: '))\n",
    "    list1.append(val)\n",
    "#print(type(list1))\n",
    "for i in range(0,5):\n",
    "    val = int(input('List2: '))\n",
    "    list2.append(val)\n",
    "#print(list1,list2)\n",
    "arr1 = np.array(list1)\n",
    "arr2 = np.array(list2)\n",
    "#print(type(arr))\n",
    "con = np.concatenate((arr1, arr2))\n",
    "print(con)\n",
    "con.sort()\n",
    "print(con)"
   ]
  },
  {
   "cell_type": "code",
   "execution_count": 20,
   "metadata": {},
   "outputs": [
    {
     "name": "stdout",
     "output_type": "stream",
     "text": [
      "[[0. 0. 0.]\n",
      " [0. 0. 0.]\n",
      " [0. 0. 0.]]\n",
      "Dimension:  2\n",
      "Size:  9\n"
     ]
    }
   ],
   "source": [
    "#Question 3\n",
    "x = np.zeros((3, 3))\n",
    "print(x)\n",
    "print('Dimension: ',x.ndim)\n",
    "print('Size: ',x.size)"
   ]
  },
  {
   "cell_type": "code",
   "execution_count": 28,
   "metadata": {},
   "outputs": [
    {
     "name": "stdout",
     "output_type": "stream",
     "text": [
      "[1 2]\n",
      "Shape: (2,)\n",
      "Dimension: 1\n",
      "Shape: (1, 2)\n",
      "Dimension: 2\n"
     ]
    }
   ],
   "source": [
    "#Question 4\n",
    "x = np.array([1, 2])\n",
    "print(x)\n",
    "print('Shape:',x.shape)\n",
    "print('Dimension:', x.ndim)\n",
    "y = np.expand_dims(x, axis=0)\n",
    "print('Shape:',y.shape)\n",
    "print('Dimension:', y.ndim)"
   ]
  },
  {
   "cell_type": "code",
   "execution_count": 32,
   "metadata": {},
   "outputs": [
    {
     "name": "stdout",
     "output_type": "stream",
     "text": [
      "[[ 1  2]\n",
      " [ 2  3]\n",
      " [ 3  4]\n",
      " [ 2  4]\n",
      " [ 3  9]\n",
      " [ 4 16]]\n",
      "[[ 1  2  2  4]\n",
      " [ 2  3  3  9]\n",
      " [ 3  4  4 16]]\n"
     ]
    }
   ],
   "source": [
    "#Question 5\n",
    "a1 = np.array([[1,2], [2,3], [3,4]])\n",
    "a2 = np.array([[2,4], [3,9], [4,16]])\n",
    "print(np.vstack((a1,a2)))\n",
    "print(np.hstack((a1,a2)))"
   ]
  },
  {
   "cell_type": "code",
   "execution_count": 39,
   "metadata": {},
   "outputs": [
    {
     "name": "stdout",
     "output_type": "stream",
     "text": [
      "(array([1, 2, 3, 4, 5, 8]), array([2, 3, 3, 2, 1, 1], dtype=int64))\n"
     ]
    }
   ],
   "source": [
    "#Question 6\n",
    "data1 = np.array([[1,2,3,8], [2,3,4,1], [3,4,5,2]])\n",
    "print(np.unique(data1, return_counts = True))"
   ]
  },
  {
   "cell_type": "code",
   "execution_count": null,
   "metadata": {},
   "outputs": [],
   "source": []
  }
 ],
 "metadata": {
  "kernelspec": {
   "display_name": "Python 3",
   "language": "python",
   "name": "python3"
  }
 },
 "nbformat": 4,
 "nbformat_minor": 4
}
